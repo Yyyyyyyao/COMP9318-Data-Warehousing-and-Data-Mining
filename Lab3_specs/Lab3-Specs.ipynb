{
 "cells": [
  {
   "cell_type": "markdown",
   "metadata": {},
   "source": [
    "# COMP9318 Lab3"
   ]
  },
  {
   "cell_type": "markdown",
   "metadata": {},
   "source": [
    "## Instructions\n",
    "1. This note book contains instructions for **COMP9318-Lab3**.\n",
    "\n",
    "* You are required to complete your implementation in a file `submission.py` provided along with this notebook.\n",
    "\n",
    "* You are not allowed to print out unnecessary stuff. We will not consider any output printed out on the screen. All results should be returned in appropriate data structures via corresponding functions.\n",
    "\n",
    "* You can submit your implementation for **Lab3** via following link: https://kg.cse.unsw.edu.au/submit/ .\n",
    "\n",
    "* For each question, we have provided you with detailed instructions along with question headings. In case of any problem, you can post your query @ Ed.\n",
    "\n",
    "* You are allowed to add other functions and/or import modules (you may have to in this lab), but you are not allowed to define global variables. **Only functions are allowed** in `submission.py`. \n",
    "\n",
    "* You should not import unnecessary modules/libraries, failing to import such modules at test time will lead to errors.\n",
    "\n",
    "* We will provide immediate feedback on your submission. You can access your scores using the online submission portal on the same day. \n",
    "\n",
    "* For **Final Evaluation** we will be using a different dataset, so your final scores may vary.  \n",
    "\n",
    "* You are allowed to submit as many times as you want before the deadline, but **ONLY the latest version will be kept and marked**.\n",
    "\n",
    "* Submission deadline for this assignment is **20:59:59 on 2nd April, 2021 (SYDNEY TIME)**. We will **not** accept any late submissions."
   ]
  },
  {
   "cell_type": "markdown",
   "metadata": {},
   "source": [
    "# Question-1: Text Classification using Multinomial Naive Bayes\n",
    "\n",
    "You are required to implement a multinomial naive bayes classifier to predict spam SMS.\n",
    "\n",
    "The training data is a set of SMS categoried into `spam` and `ham`."
   ]
  },
  {
   "cell_type": "code",
   "execution_count": 1,
   "metadata": {
    "scrolled": true
   },
   "outputs": [
    {
     "data": {
      "text/html": [
       "<div>\n",
       "<style scoped>\n",
       "    .dataframe tbody tr th:only-of-type {\n",
       "        vertical-align: middle;\n",
       "    }\n",
       "\n",
       "    .dataframe tbody tr th {\n",
       "        vertical-align: top;\n",
       "    }\n",
       "\n",
       "    .dataframe thead th {\n",
       "        text-align: right;\n",
       "    }\n",
       "</style>\n",
       "<table border=\"1\" class=\"dataframe\">\n",
       "  <thead>\n",
       "    <tr style=\"text-align: right;\">\n",
       "      <th></th>\n",
       "      <th>category</th>\n",
       "      <th>text</th>\n",
       "    </tr>\n",
       "  </thead>\n",
       "  <tbody>\n",
       "    <tr>\n",
       "      <th>0</th>\n",
       "      <td>ham</td>\n",
       "      <td>Go until jurong point, crazy.. Available only ...</td>\n",
       "    </tr>\n",
       "    <tr>\n",
       "      <th>1</th>\n",
       "      <td>ham</td>\n",
       "      <td>Ok lar... Joking wif u oni...</td>\n",
       "    </tr>\n",
       "    <tr>\n",
       "      <th>2</th>\n",
       "      <td>spam</td>\n",
       "      <td>Free entry in 2 a wkly comp to win FA Cup fina...</td>\n",
       "    </tr>\n",
       "    <tr>\n",
       "      <th>3</th>\n",
       "      <td>ham</td>\n",
       "      <td>U dun say so early hor... U c already then say...</td>\n",
       "    </tr>\n",
       "    <tr>\n",
       "      <th>4</th>\n",
       "      <td>ham</td>\n",
       "      <td>Nah I don't think he goes to usf, he lives aro...</td>\n",
       "    </tr>\n",
       "  </tbody>\n",
       "</table>\n",
       "</div>"
      ],
      "text/plain": [
       "  category                                               text\n",
       "0      ham  Go until jurong point, crazy.. Available only ...\n",
       "1      ham                      Ok lar... Joking wif u oni...\n",
       "2     spam  Free entry in 2 a wkly comp to win FA Cup fina...\n",
       "3      ham  U dun say so early hor... U c already then say...\n",
       "4      ham  Nah I don't think he goes to usf, he lives aro..."
      ]
     },
     "execution_count": 1,
     "metadata": {},
     "output_type": "execute_result"
    }
   ],
   "source": [
    "import pandas as pd\n",
    "\n",
    "raw_data = pd.read_csv('./asset/data.txt', sep='\\t')\n",
    "raw_data.head()"
   ]
  },
  {
   "cell_type": "markdown",
   "metadata": {},
   "source": [
    "In order to implement a unigram model, first we tokenize the text. We use the count corresponding to each token (word) in the SMS as its feature (i.e., bag of words). We store the features and catrgorical information for each SMS in a `dictionary`."
   ]
  },
  {
   "cell_type": "code",
   "execution_count": 2,
   "metadata": {},
   "outputs": [],
   "source": [
    "def tokenize(sms):\n",
    "    return sms.split(' ')\n",
    "\n",
    "def get_freq_of_tokens(sms):\n",
    "    tokens = {}\n",
    "    for token in tokenize(sms):\n",
    "        if token not in tokens:\n",
    "            tokens[token] = 1\n",
    "        else:\n",
    "            tokens[token] += 1\n",
    "    return tokens\n",
    "\n",
    "training_data = []\n",
    "for index in range(len(raw_data)):\n",
    "    training_data.append((get_freq_of_tokens(raw_data.iloc[index].text), raw_data.iloc[index].category))"
   ]
  },
  {
   "cell_type": "markdown",
   "metadata": {},
   "source": [
    "For this lab, you need to **implement** a multinomial naive bayes classifier (i.e., `multinomial_nb()` in the file: `submission.py`) with add-1 smoothing. The input arguments of `multinomial_nb()` are:\n",
    "* `training_data`: pre-processed data stored as a `dictionary`\n",
    "* `sms`: test-sms (i.e., a list of tokens) that you need to categorize as `spam` and/or `ham`\n",
    "\n",
    "The return value of `multinomial_nb()` should be the **ratio** of the probability of sms is spam and the probability of sms is ham. A return value larger than 1 implies the `sms` is spam and vice versa.\n",
    "\n",
    "For example, a sample output is shown in the cell given below:"
   ]
  },
  {
   "cell_type": "code",
   "execution_count": 34,
   "metadata": {},
   "outputs": [],
   "source": [
    "def multinomial_nb(training_data, sms):# do not change the heading of the function\n",
    "\n",
    "    # ratio = the probability of sms is spam / the probability of sms is ham.\n",
    "    # ratio = pro_spam_sms / pro_ham_sms\n",
    "\n",
    "    # pro_spam = # of spam / total # of training data\n",
    "    # pro_spam = # of spam / total # of training data\n",
    "    count_spam = 0\n",
    "    count_ham = 0\n",
    "    training_token_spam = {} # {word, freq}\n",
    "    training_token_ham = {} # {word, freq}\n",
    "    vacabulary = {}\n",
    "        \n",
    "    for data in training_data:\n",
    "        if data[1] == \"spam\":\n",
    "            count_spam += 1\n",
    "            for key, val in data[0].items():\n",
    "                if key not in vacabulary:\n",
    "                    vacabulary[key] = 1\n",
    "\n",
    "                if key not in training_token_spam:\n",
    "                    training_token_spam[key] = val\n",
    "                else:\n",
    "                    training_token_spam[key] += val\n",
    "                    \n",
    "        elif data[1] == \"ham\":\n",
    "            count_ham += 1\n",
    "            for key, val in data[0].items():\n",
    "                if key not in vacabulary:\n",
    "                    vacabulary[key] = 1\n",
    "                    \n",
    "                if key not in training_token_ham:\n",
    "                    training_token_ham[key] = val\n",
    "                else:\n",
    "                    training_token_ham[key] += val\n",
    "\n",
    "    total_distinct_words_in_spam = sum(training_token_spam.values())\n",
    "    total_distinct_words_in_ham = sum(training_token_ham.values())\n",
    "    \n",
    "    pro_word_spam_dic = {}\n",
    "    pro_word_ham_dic = {}\n",
    "    for key, val in vacabulary.items():\n",
    "        if key not in training_token_spam:\n",
    "            pro_word_spam_dic[key] = (0+1) / (total_distinct_words_in_spam + len(vacabulary))\n",
    "        else:\n",
    "            pro_word_spam_dic[key] = (training_token_spam[key]+1) / (total_distinct_words_in_spam + len(vacabulary))\n",
    "\n",
    "        if key not in training_token_ham:\n",
    "            pro_word_ham_dic[key] = (0+1) / (total_distinct_words_in_ham + len(vacabulary))\n",
    "        else:\n",
    "            pro_word_ham_dic[key] = (training_token_ham[key]+1) / (total_distinct_words_in_ham + len(vacabulary))\n",
    "\n",
    "    pro_spam = count_spam / len(training_data)\n",
    "    pro_ham = count_ham / len(training_data)\n",
    "\n",
    "\n",
    "    # pro_spam_sms = pro_sms_spam*pro_spam\n",
    "    pro_spam_sms = pro_spam\n",
    "    for word in sms:\n",
    "        if word not in pro_word_spam_dic:\n",
    "            continue\n",
    "        else:\n",
    "            pro_spam_sms = pro_spam_sms*pro_word_spam_dic[word]\n",
    "\n",
    "    # pro_ham_sms = pro_sms_ham*pro_ham\n",
    "    pro_ham_sms = pro_ham\n",
    "    for word in sms:\n",
    "        if word not in pro_word_ham_dic:\n",
    "            continue\n",
    "        else:\n",
    "            pro_ham_sms = pro_ham_sms*pro_word_ham_dic[word]\n",
    "\n",
    "    ratio = pro_spam_sms / pro_ham_sms\n",
    "    \n",
    "    return ratio "
   ]
  },
  {
   "cell_type": "code",
   "execution_count": 35,
   "metadata": {
    "scrolled": true
   },
   "outputs": [
    {
     "name": "stdout",
     "output_type": "stream",
     "text": [
      "0.23427672955974846\n"
     ]
    }
   ],
   "source": [
    "## How we test your implementation...\n",
    "# import submission_ans as submission\n",
    "\n",
    "sms = 'I am not spam'\n",
    "print(multinomial_nb(training_data, tokenize(sms)))\n",
    "# print(submission.multinomial_nb(training_data, tokenize(sms)))"
   ]
  },
  {
   "cell_type": "markdown",
   "metadata": {},
   "source": [
    "\n",
    "\n",
    "# Test Environment\n",
    "\n",
    "For testing, we have pre-installed the requisite modules and/or libraries in the testing environment. You are only allowed to use following libraries:\n",
    "* python: 3.6.5\n",
    "* pandas: 0.19.2\n",
    "\n",
    "NOTE: You are required to implement the classifier by yourself. You are not allowed to import **sklearn** and/or any other library in Lab3."
   ]
  },
  {
   "cell_type": "code",
   "execution_count": null,
   "metadata": {},
   "outputs": [],
   "source": []
  },
  {
   "cell_type": "code",
   "execution_count": null,
   "metadata": {},
   "outputs": [],
   "source": []
  }
 ],
 "metadata": {
  "kernelspec": {
   "display_name": "Python 3",
   "language": "python",
   "name": "python3"
  },
  "language_info": {
   "codemirror_mode": {
    "name": "ipython",
    "version": 3
   },
   "file_extension": ".py",
   "mimetype": "text/x-python",
   "name": "python",
   "nbconvert_exporter": "python",
   "pygments_lexer": "ipython3",
   "version": "3.8.5"
  }
 },
 "nbformat": 4,
 "nbformat_minor": 2
}
